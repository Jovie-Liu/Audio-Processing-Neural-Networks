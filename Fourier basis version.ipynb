{
 "cells": [
  {
   "cell_type": "code",
   "execution_count": 1,
   "metadata": {},
   "outputs": [
    {
     "data": {
      "text/plain": [
       "True"
      ]
     },
     "execution_count": 1,
     "metadata": {},
     "output_type": "execute_result"
    }
   ],
   "source": [
    "import torch\n",
    "import numpy as np\n",
    "torch.cuda.is_available()"
   ]
  },
  {
   "cell_type": "code",
   "execution_count": null,
   "metadata": {},
   "outputs": [],
   "source": [
    "def random_init(M,dev):\n",
    "    a1 = torch.rand(1) + 0.5\n",
    "    a2 = torch.rand(1) + 0.5\n",
    "    a3 = torch.rand(1) + 0.5\n",
    "    a4 = torch.rand(1) + 0.5\n",
    "    \n",
    "    w1, index = torch.sort(torch.rand(M)*torch.pi)\n",
    "    w2, index = torch.sort(torch.rand(M)*torch.pi)\n",
    "    \n",
    "    a1 = a1.to(dev)\n",
    "    a1.requires_grad_(True)\n",
    "    \n",
    "    a2 = a2.to(dev)\n",
    "    a2.requires_grad_(True)\n",
    "    \n",
    "    a3 = a3.to(dev)\n",
    "    a3.requires_grad_(True)\n",
    "    \n",
    "    a4 = a4.to(dev)\n",
    "    a4.requires_grad_(True)\n",
    "    \n",
    "    w1 = w1.to(dev)\n",
    "    w1.requires_grad_(True)\n",
    "    \n",
    "    w2 = w2.to(dev)\n",
    "    w2.requires_grad_(True)\n",
    "    \n",
    "    \n",
    "    return a1,a2,a3,a4,w1,w2"
   ]
  },
  {
   "cell_type": "code",
   "execution_count": 2,
   "metadata": {},
   "outputs": [],
   "source": [
    "def orthogonal_init(M,dev):\n",
    "    a1 = torch.tensor(1.0, requires_grad = True, device = dev)\n",
    "    a2 = torch.tensor(np.sqrt(2), requires_grad = True, device = dev) # sqrt(2)\n",
    "    a3 = torch.tensor(1.0, requires_grad = True, device = dev)\n",
    "    a4 = torch.tensor(np.sqrt(2), requires_grad = True, device = dev)\n",
    "\n",
    "    \n",
    "    w1 = (torch.arange(0,M/2+1, device = dev))/M*2*torch.pi\n",
    "    w2 = (torch.arange(1,M/2, device = dev))/M*2*torch.pi\n",
    "    w1.requires_grad_(True)\n",
    "    w2.requires_grad_(True)\n",
    "    # w1.retain_grad()\n",
    "    # w2.retain_grad()\n",
    "    \n",
    "    return a1,a2,a3,a4,w1,w2"
   ]
  },
  {
   "cell_type": "code",
   "execution_count": 3,
   "metadata": {},
   "outputs": [],
   "source": [
    "def forward_pass_id_orthogonal(x,a1,a2,a3,a4,w1,dev):\n",
    "    N = x.size()[0]\n",
    "    M = w1.size()[0]\n",
    "    \n",
    "    # weight matrix W1 (MxN)\n",
    "    W1[0,:] = a1\n",
    "    W1[1:M/2-1,:] = a2 * torch.cos(torch.outer(w1,torch.arange(N, device = dev)))\n",
    "    \n",
    "    \n",
    "    # frequency domain X\n",
    "    X = torch.matmul(W1,x)/np.sqrt(N)\n",
    "    \n",
    "    # weight matrix W2_1 with same frequency components w1\n",
    "    W2_1 = a4 * torch.cos(torch.outer(torch.arange(N, device = dev),w1))\n",
    "    W2_1[0] = a3\n",
    "            \n",
    "    y = torch.matmul(W2_1,X)/np.sqrt(N)\n",
    "    \n",
    "    return X,y"
   ]
  },
  {
   "cell_type": "code",
   "execution_count": 7,
   "metadata": {},
   "outputs": [
    {
     "data": {
      "text/plain": [
       "array([1, 2, 3, 4, 5, 6, 7, 8, 9, 1, 2, 3, 4, 5, 6, 7, 8, 9])"
      ]
     },
     "execution_count": 7,
     "metadata": {},
     "output_type": "execute_result"
    }
   ],
   "source": [
    "np.append(np.arange(1,10),np.arange(1,10))"
   ]
  },
  {
   "cell_type": "code",
   "execution_count": null,
   "metadata": {},
   "outputs": [],
   "source": []
  }
 ],
 "metadata": {
  "kernelspec": {
   "display_name": "Python 3",
   "language": "python",
   "name": "python3"
  },
  "language_info": {
   "codemirror_mode": {
    "name": "ipython",
    "version": 3
   },
   "file_extension": ".py",
   "mimetype": "text/x-python",
   "name": "python",
   "nbconvert_exporter": "python",
   "pygments_lexer": "ipython3",
   "version": "3.7.6"
  }
 },
 "nbformat": 4,
 "nbformat_minor": 4
}
